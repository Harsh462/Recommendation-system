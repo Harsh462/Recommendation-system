{
 "cells": [
  {
   "cell_type": "markdown",
   "metadata": {},
   "source": [
    "### dataset url : https://www.kaggle.com/siddharthm1698/coursera-course-dataset\n",
    "\n",
    "### Here i am going to create recommendation system for the coursera courses based on course_title and students enrolled "
   ]
  },
  {
   "cell_type": "code",
   "execution_count": 1,
   "metadata": {},
   "outputs": [],
   "source": [
    "# importing dependencies\n",
    "import numpy as np\n",
    "import pandas  as pd\n"
   ]
  },
  {
   "cell_type": "code",
   "execution_count": 2,
   "metadata": {},
   "outputs": [],
   "source": [
    "coursera  = pd.read_csv(\"coursera_data.csv\")"
   ]
  },
  {
   "cell_type": "code",
   "execution_count": 3,
   "metadata": {},
   "outputs": [
    {
     "data": {
      "text/html": [
       "<div>\n",
       "<style scoped>\n",
       "    .dataframe tbody tr th:only-of-type {\n",
       "        vertical-align: middle;\n",
       "    }\n",
       "\n",
       "    .dataframe tbody tr th {\n",
       "        vertical-align: top;\n",
       "    }\n",
       "\n",
       "    .dataframe thead th {\n",
       "        text-align: right;\n",
       "    }\n",
       "</style>\n",
       "<table border=\"1\" class=\"dataframe\">\n",
       "  <thead>\n",
       "    <tr style=\"text-align: right;\">\n",
       "      <th></th>\n",
       "      <th>Unnamed: 0</th>\n",
       "      <th>course_title</th>\n",
       "      <th>course_organization</th>\n",
       "      <th>course_Certificate_type</th>\n",
       "      <th>course_rating</th>\n",
       "      <th>course_difficulty</th>\n",
       "      <th>course_students_enrolled</th>\n",
       "    </tr>\n",
       "  </thead>\n",
       "  <tbody>\n",
       "    <tr>\n",
       "      <th>0</th>\n",
       "      <td>134</td>\n",
       "      <td>(ISC)² Systems Security Certified Practitioner...</td>\n",
       "      <td>(ISC)²</td>\n",
       "      <td>SPECIALIZATION</td>\n",
       "      <td>4.7</td>\n",
       "      <td>Beginner</td>\n",
       "      <td>5.3k</td>\n",
       "    </tr>\n",
       "    <tr>\n",
       "      <th>1</th>\n",
       "      <td>743</td>\n",
       "      <td>A Crash Course in Causality:  Inferring Causal...</td>\n",
       "      <td>University of Pennsylvania</td>\n",
       "      <td>COURSE</td>\n",
       "      <td>4.7</td>\n",
       "      <td>Intermediate</td>\n",
       "      <td>17k</td>\n",
       "    </tr>\n",
       "    <tr>\n",
       "      <th>2</th>\n",
       "      <td>874</td>\n",
       "      <td>A Crash Course in Data Science</td>\n",
       "      <td>Johns Hopkins University</td>\n",
       "      <td>COURSE</td>\n",
       "      <td>4.5</td>\n",
       "      <td>Mixed</td>\n",
       "      <td>130k</td>\n",
       "    </tr>\n",
       "    <tr>\n",
       "      <th>3</th>\n",
       "      <td>413</td>\n",
       "      <td>A Law Student's Toolkit</td>\n",
       "      <td>Yale University</td>\n",
       "      <td>COURSE</td>\n",
       "      <td>4.7</td>\n",
       "      <td>Mixed</td>\n",
       "      <td>91k</td>\n",
       "    </tr>\n",
       "    <tr>\n",
       "      <th>4</th>\n",
       "      <td>635</td>\n",
       "      <td>A Life of Happiness and Fulfillment</td>\n",
       "      <td>Indian School of Business</td>\n",
       "      <td>COURSE</td>\n",
       "      <td>4.8</td>\n",
       "      <td>Mixed</td>\n",
       "      <td>320k</td>\n",
       "    </tr>\n",
       "  </tbody>\n",
       "</table>\n",
       "</div>"
      ],
      "text/plain": [
       "   Unnamed: 0                                       course_title  \\\n",
       "0         134  (ISC)² Systems Security Certified Practitioner...   \n",
       "1         743  A Crash Course in Causality:  Inferring Causal...   \n",
       "2         874                     A Crash Course in Data Science   \n",
       "3         413                            A Law Student's Toolkit   \n",
       "4         635                A Life of Happiness and Fulfillment   \n",
       "\n",
       "          course_organization course_Certificate_type  course_rating  \\\n",
       "0                      (ISC)²          SPECIALIZATION            4.7   \n",
       "1  University of Pennsylvania                  COURSE            4.7   \n",
       "2    Johns Hopkins University                  COURSE            4.5   \n",
       "3             Yale University                  COURSE            4.7   \n",
       "4   Indian School of Business                  COURSE            4.8   \n",
       "\n",
       "  course_difficulty course_students_enrolled  \n",
       "0          Beginner                     5.3k  \n",
       "1      Intermediate                      17k  \n",
       "2             Mixed                     130k  \n",
       "3             Mixed                      91k  \n",
       "4             Mixed                     320k  "
      ]
     },
     "execution_count": 3,
     "metadata": {},
     "output_type": "execute_result"
    }
   ],
   "source": [
    "coursera.head()"
   ]
  },
  {
   "cell_type": "code",
   "execution_count": 4,
   "metadata": {},
   "outputs": [
    {
     "data": {
      "text/plain": [
       "Index(['Unnamed: 0', 'course_title', 'course_organization',\n",
       "       'course_Certificate_type', 'course_rating', 'course_difficulty',\n",
       "       'course_students_enrolled'],\n",
       "      dtype='object')"
      ]
     },
     "execution_count": 4,
     "metadata": {},
     "output_type": "execute_result"
    }
   ],
   "source": [
    "coursera.columns"
   ]
  },
  {
   "cell_type": "code",
   "execution_count": 5,
   "metadata": {},
   "outputs": [
    {
     "data": {
      "text/plain": [
       "(891, 7)"
      ]
     },
     "execution_count": 5,
     "metadata": {},
     "output_type": "execute_result"
    }
   ],
   "source": [
    "coursera.shape"
   ]
  },
  {
   "cell_type": "code",
   "execution_count": 6,
   "metadata": {},
   "outputs": [
    {
     "name": "stdout",
     "output_type": "stream",
     "text": [
      "<class 'pandas.core.frame.DataFrame'>\n",
      "RangeIndex: 891 entries, 0 to 890\n",
      "Data columns (total 7 columns):\n",
      "Unnamed: 0                  891 non-null int64\n",
      "course_title                891 non-null object\n",
      "course_organization         891 non-null object\n",
      "course_Certificate_type     891 non-null object\n",
      "course_rating               891 non-null float64\n",
      "course_difficulty           891 non-null object\n",
      "course_students_enrolled    891 non-null object\n",
      "dtypes: float64(1), int64(1), object(5)\n",
      "memory usage: 48.8+ KB\n"
     ]
    }
   ],
   "source": [
    "coursera.info()"
   ]
  },
  {
   "cell_type": "code",
   "execution_count": 31,
   "metadata": {},
   "outputs": [
    {
     "data": {
      "text/plain": [
       "<matplotlib.axes._subplots.AxesSubplot at 0x1a79c06a940>"
      ]
     },
     "execution_count": 31,
     "metadata": {},
     "output_type": "execute_result"
    },
    {
     "data": {
      "image/png": "[encoded data removed]",
      "text/plain": [
       "<Figure size 432x288 with 1 Axes>"
      ]
     },
     "metadata": {
      "needs_background": "light"
     },
     "output_type": "display_data"
    }
   ],
   "source": [
    "coursera[\"course_difficulty\"].value_counts().plot(kind = 'bar')"
   ]
  },
  {
   "cell_type": "code",
   "execution_count": 8,
   "metadata": {},
   "outputs": [],
   "source": [
    "#coursera[\"course_organization\"].value_counts().head(10)"
   ]
  },
  {
   "cell_type": "code",
   "execution_count": 9,
   "metadata": {},
   "outputs": [
    {
     "data": {
      "text/plain": [
       "<matplotlib.axes._subplots.AxesSubplot at 0x1a799975400>"
      ]
     },
     "execution_count": 9,
     "metadata": {},
     "output_type": "execute_result"
    },
    {
     "data": {
      "image/png": "[encoded data removed]",
      "text/plain": [
       "<Figure size 432x288 with 1 Axes>"
      ]
     },
     "metadata": {
      "needs_background": "light"
     },
     "output_type": "display_data"
    }
   ],
   "source": [
    "coursera[\"course_organization\"].value_counts().head(10).plot(kind = \"bar\")"
   ]
  },
  {
   "cell_type": "code",
   "execution_count": 10,
   "metadata": {},
   "outputs": [
    {
     "data": {
      "text/plain": [
       "<matplotlib.axes._subplots.AxesSubplot at 0x1a799b11748>"
      ]
     },
     "execution_count": 10,
     "metadata": {},
     "output_type": "execute_result"
    },
    {
     "data": {
      "image/png": "[encoded data removed]",
      "text/plain": [
       "<Figure size 432x288 with 1 Axes>"
      ]
     },
     "metadata": {
      "needs_background": "light"
     },
     "output_type": "display_data"
    }
   ],
   "source": [
    "coursera[\"course_rating\"].value_counts().head().plot(kind = 'bar')"
   ]
  },
  {
   "cell_type": "code",
   "execution_count": 11,
   "metadata": {},
   "outputs": [],
   "source": [
    "# To create recommendation system we have to convert text into vectors .\n",
    "# For this i am going to use tfidfvectorizer\n",
    "from sklearn.feature_extraction.text import TfidfVectorizer\n",
    "\n",
    "tfidf = TfidfVectorizer(min_df = 3,max_features = None,\n",
    "                        analyzer = 'word',strip_accents = 'unicode',token_pattern = r'\\w{1,}',\n",
    "                       ngram_range = (1,3),# to create combination of multiple words\n",
    "                       stop_words = 'english')\n",
    "                        "
   ]
  },
  {
   "cell_type": "code",
   "execution_count": 12,
   "metadata": {},
   "outputs": [],
   "source": [
    "tfidf_matrix = tfidf.fit_transform(coursera[\"course_title\"])"
   ]
  },
  {
   "cell_type": "code",
   "execution_count": 13,
   "metadata": {},
   "outputs": [
    {
     "data": {
      "text/plain": [
       "(891, 337)"
      ]
     },
     "execution_count": 13,
     "metadata": {},
     "output_type": "execute_result"
    }
   ],
   "source": [
    "tfidf_matrix.shape"
   ]
  },
  {
   "cell_type": "code",
   "execution_count": 14,
   "metadata": {},
   "outputs": [],
   "source": [
    "import sklearn.metrics.pairwise"
   ]
  },
  {
   "cell_type": "code",
   "execution_count": 15,
   "metadata": {},
   "outputs": [],
   "source": [
    "# Here i am going to use sigmoid kernel for making similarity b/w 2 course title\n",
    "sig = sklearn.metrics.pairwise.sigmoid_kernel(tfidf_matrix,tfidf_matrix)"
   ]
  },
  {
   "cell_type": "code",
   "execution_count": 16,
   "metadata": {},
   "outputs": [],
   "source": [
    "#type(sig)"
   ]
  },
  {
   "cell_type": "code",
   "execution_count": 17,
   "metadata": {},
   "outputs": [],
   "source": [
    "#sig[10]"
   ]
  },
  {
   "cell_type": "code",
   "execution_count": 18,
   "metadata": {},
   "outputs": [
    {
     "data": {
      "text/plain": [
       "course_title\n",
       "(ISC)² Systems Security Certified Practitioner (SSCP)                                         0\n",
       "A Crash Course in Causality:  Inferring Causal Effects from Observational Data                1\n",
       "A Crash Course in Data Science                                                                2\n",
       "A Law Student's Toolkit                                                                       3\n",
       "A Life of Happiness and Fulfillment                                                           4\n",
       "ADHD: Everyday Strategies for Elementary Students                                             5\n",
       "AI For Everyone                                                                               6\n",
       "AI For Medical Treatment                                                                      7\n",
       "AI Foundations for Everyone                                                                   8\n",
       "AI for Medical Diagnosis                                                                      9\n",
       "AI for Medical Prognosis                                                                     10\n",
       "AI for Medicine                                                                              11\n",
       "AWS Fundamentals                                                                             12\n",
       "AWS Fundamentals: Addressing Security Risk                                                   13\n",
       "AWS Fundamentals: Building Serverless Applications                                           14\n",
       "AWS Fundamentals: Going Cloud-Native                                                         15\n",
       "AWS Fundamentals: Migrating to the Cloud                                                     16\n",
       "Aboriginal Worldviews and Education                                                          17\n",
       "Academic English: Writing                                                                    18\n",
       "Accelerated Computer Science Fundamentals                                                    19\n",
       "Access Controls                                                                              20\n",
       "Accounting Analytics                                                                         21\n",
       "Accounting for Decision Making                                                               22\n",
       "Achieving Personal and Professional Success                                                  23\n",
       "Actualización en el manejo del paciente con diabetes mellitus tipo 2                         24\n",
       "Addiction Treatment: Clinical Skills for Healthcare Providers                                25\n",
       "Advanced Business Analytics                                                                  26\n",
       "Advanced Data Science with IBM                                                               27\n",
       "Advanced Machine Learning                                                                    28\n",
       "Advanced Machine Learning with TensorFlow on Google Cloud Platform                           29\n",
       "                                                                                           ... \n",
       "What Is Contemporary Art?                                                                   861\n",
       "What future for education?                                                                  862\n",
       "What is Compliance?                                                                         863\n",
       "What is Data Science?                                                                       864\n",
       "What is Social?                                                                             865\n",
       "Wine Tasting: Sensory Techniques for Wine Analysis                                          866\n",
       "Wonders of Ancient Egypt                                                                    867\n",
       "Write A Feature Length Screenplay For Film Or Television                                    868\n",
       "Write Professional Emails in English                                                        869\n",
       "Write Your First Novel                                                                      870\n",
       "Writing in the Sciences                                                                     871\n",
       "e-Learning Ecologies: Innovative Approaches to Teaching and Learning for the Digital Age    872\n",
       "iOS App Development with Swift                                                              873\n",
       "¿Qué hacen los buenos directivos? Prioridades de la Alta Dirección                          874\n",
       "Étudier en France: French Intermediate course B1-B2                                         875\n",
       "Éxito Profesional                                                                           876\n",
       "Искусство ведения бизнеса                                                                   877\n",
       "Искусство разработки на современном C++                                                     878\n",
       "Корпоративные финансы и стоимость компании                                                  879\n",
       "Математика и Python для анализа данных                                                      880\n",
       "Машинное обучение и анализ данных                                                           881\n",
       "Основы Digital Маркетинга                                                                   882\n",
       "Основы программирования на Python                                                           883\n",
       "Основы разработки на C++: белый пояс                                                        884\n",
       "Погружение в Python                                                                         885\n",
       "Программирование на Python                                                                  886\n",
       "Психолингвистика (Psycholinguistics)                                                        887\n",
       "Разработка интерфейсов: вёрстка и JavaScript                                                888\n",
       "Русский как иностранный                                                                     889\n",
       "Финансовые инструменты для частного инвестора                                               890\n",
       "Length: 891, dtype: int64"
      ]
     },
     "execution_count": 18,
     "metadata": {},
     "output_type": "execute_result"
    }
   ],
   "source": [
    "indices = pd.Series(coursera[\"course_title\"].index ,index = coursera[\"course_title\"]).drop_duplicates()\n",
    "indices"
   ]
  },
  {
   "cell_type": "code",
   "execution_count": 19,
   "metadata": {
    "scrolled": false
   },
   "outputs": [],
   "source": [
    "#sig[indices[\"AI For Everyone\"]]"
   ]
  },
  {
   "cell_type": "code",
   "execution_count": 20,
   "metadata": {},
   "outputs": [],
   "source": [
    "#l = list(enumerate(sig[indices[\"AI For Everyone\"]]))"
   ]
  },
  {
   "cell_type": "code",
   "execution_count": 21,
   "metadata": {},
   "outputs": [],
   "source": [
    "#s = sorted(l,key = lambda x:x[1],reverse = True)"
   ]
  },
  {
   "cell_type": "code",
   "execution_count": 22,
   "metadata": {},
   "outputs": [],
   "source": [
    "#s =s[1:6]"
   ]
  },
  {
   "cell_type": "code",
   "execution_count": 23,
   "metadata": {},
   "outputs": [],
   "source": [
    "# i = [i[0] for i in s]"
   ]
  },
  {
   "cell_type": "code",
   "execution_count": 24,
   "metadata": {},
   "outputs": [],
   "source": [
    "#coursera.iloc[i]"
   ]
  },
  {
   "cell_type": "code",
   "execution_count": 25,
   "metadata": {},
   "outputs": [],
   "source": [
    "#c = coursera.copy()"
   ]
  },
  {
   "cell_type": "code",
   "execution_count": 26,
   "metadata": {},
   "outputs": [],
   "source": [
    "#c.drop(columns = ['Unnamed: 0'],inplace = True)"
   ]
  },
  {
   "cell_type": "code",
   "execution_count": 27,
   "metadata": {},
   "outputs": [],
   "source": [
    "#c.sort_values(\"course_students_enrolled\",ascending = False)"
   ]
  },
  {
   "cell_type": "code",
   "execution_count": 28,
   "metadata": {},
   "outputs": [],
   "source": [
    "#c.columns"
   ]
  },
  {
   "cell_type": "code",
   "execution_count": 29,
   "metadata": {},
   "outputs": [],
   "source": [
    "def rec_for(title,sig = sig):\n",
    "    print(\"Recommendation for {} :\".format(title))\n",
    "    idx = indices[title]  # finding index for the particular title\n",
    "    \n",
    "    sim_score = sig[idx]  # creating similarity score\n",
    "    \n",
    "    \n",
    "    sim_score = list(enumerate(sim_score)) # creating list\n",
    "    \n",
    "    sorted_sim_score = sorted(sim_score,key = lambda x:x[1],reverse = True) # sorting sim_score \n",
    "    \n",
    "    sorted_sim_score = sorted_sim_score[1:6]  # fetching 6 similar courses\n",
    "    \n",
    "    index = [i[0] for i in sorted_sim_score] # index for these 6 similar courses\n",
    "    \n",
    "    course = coursera.iloc[index] \n",
    "    \n",
    "    course.drop(columns = ['Unnamed: 0'],inplace = True)\n",
    "    \n",
    "    \n",
    "    return course.sort_values(\"course_students_enrolled\",ascending = False)  # sorting similar courses based on students_enrolled\n",
    "    \n",
    "    \n",
    "    \n",
    "    "
   ]
  },
  {
   "cell_type": "code",
   "execution_count": 30,
   "metadata": {},
   "outputs": [
    {
     "name": "stdout",
     "output_type": "stream",
     "text": [
      "Recommendation for AWS Fundamentals :\n"
     ]
    },
    {
     "name": "stderr",
     "output_type": "stream",
     "text": [
      "C:\\Users\\harsh\\Anaconda3\\lib\\site-packages\\pandas\\core\\frame.py:3940: SettingWithCopyWarning: \n",
      "A value is trying to be set on a copy of a slice from a DataFrame\n",
      "\n",
      "See the caveats in the documentation: http://pandas.pydata.org/pandas-docs/stable/indexing.html#indexing-view-versus-copy\n",
      "  errors=errors)\n"
     ]
    },
    {
     "data": {
      "text/html": [
       "<div>\n",
       "<style scoped>\n",
       "    .dataframe tbody tr th:only-of-type {\n",
       "        vertical-align: middle;\n",
       "    }\n",
       "\n",
       "    .dataframe tbody tr th {\n",
       "        vertical-align: top;\n",
       "    }\n",
       "\n",
       "    .dataframe thead th {\n",
       "        text-align: right;\n",
       "    }\n",
       "</style>\n",
       "<table border=\"1\" class=\"dataframe\">\n",
       "  <thead>\n",
       "    <tr style=\"text-align: right;\">\n",
       "      <th></th>\n",
       "      <th>course_title</th>\n",
       "      <th>course_organization</th>\n",
       "      <th>course_Certificate_type</th>\n",
       "      <th>course_rating</th>\n",
       "      <th>course_difficulty</th>\n",
       "      <th>course_students_enrolled</th>\n",
       "    </tr>\n",
       "  </thead>\n",
       "  <tbody>\n",
       "    <tr>\n",
       "      <th>14</th>\n",
       "      <td>AWS Fundamentals: Building Serverless Applicat...</td>\n",
       "      <td>Amazon Web Services</td>\n",
       "      <td>COURSE</td>\n",
       "      <td>4.7</td>\n",
       "      <td>Beginner</td>\n",
       "      <td>27k</td>\n",
       "    </tr>\n",
       "    <tr>\n",
       "      <th>348</th>\n",
       "      <td>Fundamentals of Immunology</td>\n",
       "      <td>Rice University</td>\n",
       "      <td>SPECIALIZATION</td>\n",
       "      <td>4.7</td>\n",
       "      <td>Intermediate</td>\n",
       "      <td>20k</td>\n",
       "    </tr>\n",
       "    <tr>\n",
       "      <th>16</th>\n",
       "      <td>AWS Fundamentals: Migrating to the Cloud</td>\n",
       "      <td>Amazon Web Services</td>\n",
       "      <td>COURSE</td>\n",
       "      <td>4.5</td>\n",
       "      <td>Intermediate</td>\n",
       "      <td>13k</td>\n",
       "    </tr>\n",
       "    <tr>\n",
       "      <th>13</th>\n",
       "      <td>AWS Fundamentals: Addressing Security Risk</td>\n",
       "      <td>Amazon Web Services</td>\n",
       "      <td>COURSE</td>\n",
       "      <td>4.3</td>\n",
       "      <td>Beginner</td>\n",
       "      <td>11k</td>\n",
       "    </tr>\n",
       "    <tr>\n",
       "      <th>15</th>\n",
       "      <td>AWS Fundamentals: Going Cloud-Native</td>\n",
       "      <td>Amazon Web Services</td>\n",
       "      <td>COURSE</td>\n",
       "      <td>4.7</td>\n",
       "      <td>Beginner</td>\n",
       "      <td>110k</td>\n",
       "    </tr>\n",
       "  </tbody>\n",
       "</table>\n",
       "</div>"
      ],
      "text/plain": [
       "                                          course_title  course_organization  \\\n",
       "14   AWS Fundamentals: Building Serverless Applicat...  Amazon Web Services   \n",
       "348                         Fundamentals of Immunology      Rice University   \n",
       "16            AWS Fundamentals: Migrating to the Cloud  Amazon Web Services   \n",
       "13          AWS Fundamentals: Addressing Security Risk  Amazon Web Services   \n",
       "15                AWS Fundamentals: Going Cloud-Native  Amazon Web Services   \n",
       "\n",
       "    course_Certificate_type  course_rating course_difficulty  \\\n",
       "14                   COURSE            4.7          Beginner   \n",
       "348          SPECIALIZATION            4.7      Intermediate   \n",
       "16                   COURSE            4.5      Intermediate   \n",
       "13                   COURSE            4.3          Beginner   \n",
       "15                   COURSE            4.7          Beginner   \n",
       "\n",
       "    course_students_enrolled  \n",
       "14                       27k  \n",
       "348                      20k  \n",
       "16                       13k  \n",
       "13                       11k  \n",
       "15                      110k  "
      ]
     },
     "execution_count": 30,
     "metadata": {},
     "output_type": "execute_result"
    }
   ],
   "source": [
    "rec_for(\"AWS Fundamentals\")"
   ]
  },
  {
   "cell_type": "code",
   "execution_count": null,
   "metadata": {},
   "outputs": [],
   "source": []
  }
 ],
 "metadata": {
  "kernelspec": {
   "display_name": "Python 3",
   "language": "python",
   "name": "python3"
  },
  "language_info": {
   "codemirror_mode": {
    "name": "ipython",
    "version": 3
   },
   "file_extension": ".py",
   "mimetype": "text/x-python",
   "name": "python",
   "nbconvert_exporter": "python",
   "pygments_lexer": "ipython3",
   "version": "3.7.3"
  }
 },
 "nbformat": 4,
 "nbformat_minor": 2
}
